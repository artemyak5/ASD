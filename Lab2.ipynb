{
 "cells": [
  {
   "cell_type": "markdown",
   "id": "1813753d",
   "metadata": {},
   "source": [
    "<center style=\"font-size: 20px;\"><strong>Лабораторна робота №2</strong></center>\n",
    "\n",
    "---\n",
    "<center style=\"font-size: 18px;\">Методи сортування масивів</center>"
   ]
  },
  {
   "cell_type": "markdown",
   "id": "5d5a307c",
   "metadata": {},
   "source": [
    "<p style=\"font-size: 15px;\"><strong> Мета роботи:</strong> познайомитися з роботою поширених методів сортування, з критеріями та методикою їх порівняння. </p>"
   ]
  },
  {
   "cell_type": "markdown",
   "id": "04d1f4ae",
   "metadata": {},
   "source": [
    "---\n",
    "<p style=\"font-size: 18px;\"><strong>Завдання №1</strong></p>\n",
    "<p style=\"font-size: 15px;\">Сортування методом вибору.</p>\n"
   ]
  },
  {
   "cell_type": "code",
   "execution_count": 1,
   "id": "36ec66e3",
   "metadata": {},
   "outputs": [],
   "source": [
    "import numpy as np\n",
    "import time"
   ]
  },
  {
   "cell_type": "code",
   "execution_count": 2,
   "id": "fec5d9cf",
   "metadata": {},
   "outputs": [],
   "source": [
    "def selection_sort(array):\n",
    "    \n",
    "    comparisons = 0\n",
    "    moves = 0\n",
    "    \n",
    "    length_ind_array = range(0, len(array) - 1)\n",
    "    \n",
    "    for i in length_ind_array:\n",
    "        min_i = i\n",
    "        \n",
    "        for j in range(i + 1, len(array)):\n",
    "            \n",
    "            comparisons += 1\n",
    "            \n",
    "            if array[j] < array[min_i]:\n",
    "                min_i = j\n",
    "                \n",
    "        if min_i != i:\n",
    "            array[min_i], array[i] = array[i], array[min_i]\n",
    "            moves += 1\n",
    "            \n",
    "    return array, comparisons, moves"
   ]
  },
  {
   "cell_type": "markdown",
   "id": "45e69ad3",
   "metadata": {},
   "source": [
    "---\n",
    "<p style=\"font-size: 18px;\"><strong>Завдання №2</strong></p>\n",
    "<p style=\"font-size: 15px;\">Написати програму, що реалізує метод Шелла.</p>\n"
   ]
  },
  {
   "cell_type": "code",
   "execution_count": null,
   "id": "df93b2ff",
   "metadata": {},
   "outputs": [],
   "source": []
  },
  {
   "cell_type": "markdown",
   "id": "ba34414c",
   "metadata": {},
   "source": [
    "---\n",
    "<p style=\"font-size: 18px;\"><strong>Завдання №3</strong></p>\n",
    "<p style=\"font-size: 15px;\">Згенерувати три масиви з випадковими елементами типу Integer довжиною 100, 1000 та 10000 елементів, відповідно.</p>\n"
   ]
  },
  {
   "cell_type": "code",
   "execution_count": 3,
   "id": "3d365a6b",
   "metadata": {},
   "outputs": [],
   "source": [
    "array_1 = np.random.randint(100, size=(100)) \n",
    "array_2 = np.random.randint(1, 1000, 1000)\n",
    "array_3 = np.random.randint(1, 10000, 10000)"
   ]
  },
  {
   "cell_type": "code",
   "execution_count": 4,
   "id": "6da45c9c",
   "metadata": {},
   "outputs": [],
   "source": [
    "def timer(func, *args, iterations=5):\n",
    "    total_time = 0\n",
    "    for _ in range(iterations):\n",
    "        start_time = time.time()\n",
    "        func(*args)\n",
    "        end_time = time.time()\n",
    "        total_time += end_time - start_time\n",
    "    return total_time / iterations"
   ]
  },
  {
   "cell_type": "code",
   "execution_count": 5,
   "id": "998c5e27",
   "metadata": {},
   "outputs": [],
   "source": [
    "avg_time_1 = timer(selection_sort, array_1.copy())\n",
    "avg_time_2 = timer(selection_sort, array_2.copy())\n",
    "avg_time_3 = timer(selection_sort, array_3.copy())"
   ]
  },
  {
   "cell_type": "markdown",
   "id": "eb63967b",
   "metadata": {},
   "source": [
    "---\n",
    "<p style=\"font-size: 18px;\"><strong>Завдання №4</strong></p>\n",
    "<p style=\"font-size: 15px;\">Відсортувати одержані масиви за збільшенням елементів, визначивши при цьому такі параметри:</p>\n",
    "<ul>\n",
    "  <li>кількість порівнянь;</li>\n",
    "  <li>кількість обмінів;</li>\n",
    "  <li>фактичний час роботи.</li>\n",
    "</ul>\n"
   ]
  },
  {
   "cell_type": "markdown",
   "id": "c83120e5",
   "metadata": {},
   "source": [
    "<p style=\"font-size: 16px;\"><strong>Завдання №4.1</strong></p>"
   ]
  },
  {
   "cell_type": "code",
   "execution_count": 6,
   "id": "91869088",
   "metadata": {
    "scrolled": false
   },
   "outputs": [
    {
     "name": "stdout",
     "output_type": "stream",
     "text": [
      "Відсортований array_1 (перші 10): [ 1  1  2  4  5  6  8 10 11 14]\n",
      "Відсортований array_1 (останні 10): [90 95 95 96 96 96 97 97 97 98]\n",
      "Comparisons: 4950 , Moves: 96 , Time: 0.0019269466400146484\n",
      "Відсортований array_2 (перші 10): [1 1 3 3 4 5 5 5 8 8]\n",
      "Відсортований array_2 (останні 10): [990 991 991 992 992 992 994 995 998 998]\n",
      "Comparisons: 499500 , Moves: 991 , Time: 0.1747760772705078\n",
      "Відсортований array_3 (перші 10): [ 3  3  4  4  5  6  7  8  9 10]\n",
      "Відсортований array_3 (останні 10): [9991 9993 9994 9996 9997 9997 9997 9997 9999 9999]\n",
      "Comparisons: 49995000 , Moves: 9990 , Time: 17.3759916305542\n"
     ]
    }
   ],
   "source": [
    "sorted_array_1, comparisons_1, moves_1 = selection_sort(array_1.copy())\n",
    "sorted_array_2, comparisons_2, moves_2 = selection_sort(array_2.copy())\n",
    "sorted_array_3, comparisons_3, moves_3 = selection_sort(array_3.copy())\n",
    "\n",
    "print(\"Відсортований array_1 (перші 10):\", sorted_array_1[:10])\n",
    "print(\"Відсортований array_1 (останні 10):\", sorted_array_1[-10:])\n",
    "print(\"Comparisons:\", comparisons_1, \", Moves:\", moves_1, \", Time:\", avg_time_1)\n",
    "\n",
    "print(\"Відсортований array_2 (перші 10):\", sorted_array_2[:10])\n",
    "print(\"Відсортований array_2 (останні 10):\", sorted_array_2[-10:])\n",
    "print(\"Comparisons:\", comparisons_2, \", Moves:\", moves_2, \", Time:\", avg_time_2)\n",
    "\n",
    "print(\"Відсортований array_3 (перші 10):\", sorted_array_3[:10])\n",
    "print(\"Відсортований array_3 (останні 10):\", sorted_array_3[-10:])\n",
    "print(\"Comparisons:\", comparisons_3, \", Moves:\", moves_3, \", Time:\", avg_time_3)"
   ]
  },
  {
   "cell_type": "markdown",
   "id": "7eb7313f",
   "metadata": {},
   "source": [
    "<p style=\"font-size: 16px;\"><strong>Завдання №4.2</strong></p>"
   ]
  },
  {
   "cell_type": "code",
   "execution_count": null,
   "id": "aecab381",
   "metadata": {},
   "outputs": [],
   "source": []
  }
 ],
 "metadata": {
  "kernelspec": {
   "display_name": "Python 3 (ipykernel)",
   "language": "python",
   "name": "python3"
  },
  "language_info": {
   "codemirror_mode": {
    "name": "ipython",
    "version": 3
   },
   "file_extension": ".py",
   "mimetype": "text/x-python",
   "name": "python",
   "nbconvert_exporter": "python",
   "pygments_lexer": "ipython3",
   "version": "3.11.4"
  }
 },
 "nbformat": 4,
 "nbformat_minor": 5
}
