{
 "cells": [
  {
   "cell_type": "markdown",
   "id": "1813753d",
   "metadata": {},
   "source": [
    "<center style=\"font-size: 20px;\"><strong>Лабораторна робота №2</strong></center>\n",
    "\n",
    "---\n",
    "<center style=\"font-size: 18px;\">Методи сортування масивів</center>"
   ]
  },
  {
   "cell_type": "markdown",
   "id": "5d5a307c",
   "metadata": {},
   "source": [
    "<p style=\"font-size: 15px;\"><strong> Мета роботи:</strong> познайомитися з роботою поширених методів сортування, з критеріями та методикою їх порівняння. </p>"
   ]
  },
  {
   "cell_type": "markdown",
   "id": "04d1f4ae",
   "metadata": {},
   "source": [
    "---\n",
    "<p style=\"font-size: 18px;\"><strong>Завдання №1</strong></p>\n",
    "<p style=\"font-size: 15px;\">Сортування методом вибору.</p>\n"
   ]
  },
  {
   "cell_type": "code",
   "execution_count": 1,
   "id": "36ec66e3",
   "metadata": {},
   "outputs": [],
   "source": [
    "import numpy as np\n",
    "import time"
   ]
  },
  {
   "cell_type": "code",
   "execution_count": 2,
   "id": "fec5d9cf",
   "metadata": {},
   "outputs": [],
   "source": [
    "def selection_sort(array):\n",
    "    \n",
    "    comparisons = 0\n",
    "    moves = 0\n",
    "    \n",
    "    length_ind_array = range(0, len(array) - 1)\n",
    "    \n",
    "    for i in length_ind_array:\n",
    "        min_i = i\n",
    "        \n",
    "        for j in range(i + 1, len(array)):\n",
    "            \n",
    "            comparisons += 1\n",
    "            \n",
    "            if array[j] < array[min_i]:\n",
    "                min_i = j\n",
    "                \n",
    "        if min_i != i:\n",
    "            array[min_i], array[i] = array[i], array[min_i]\n",
    "            moves += 1\n",
    "            \n",
    "    return array, comparisons, moves"
   ]
  },
  {
   "cell_type": "markdown",
   "id": "45e69ad3",
   "metadata": {},
   "source": [
    "---\n",
    "<p style=\"font-size: 18px;\"><strong>Завдання №2</strong></p>\n",
    "<p style=\"font-size: 15px;\">Написати програму, що реалізує метод Шелла.</p>\n"
   ]
  },
  {
   "cell_type": "code",
   "execution_count": 3,
   "id": "df93b2ff",
   "metadata": {},
   "outputs": [],
   "source": [
    "def sedgewick_gaps(n):\n",
    "    gaps = [1]\n",
    "    i = 1\n",
    "    while True:\n",
    "        if i % 2 == 0:\n",
    "            gap = 9 * (2 ** i) - 9 * (2 ** (i / 2)) + 1\n",
    "        else:\n",
    "            gap = 8 * (2 ** i) - 6 * (2 ** ((i + 1) / 2)) + 1\n",
    "        if gap >= n:\n",
    "            break\n",
    "        gaps.append(int(gap))\n",
    "        i += 1\n",
    "    return gaps[::-1]\n",
    "\n",
    "def shell_sort(array):\n",
    "    n = len(array)\n",
    "    gaps = sedgewick_gaps(n)\n",
    "    comparisons = 0\n",
    "    moves = 0\n",
    "    for gap in gaps:\n",
    "        for i in range(gap, n):\n",
    "            temp = array[i]\n",
    "            j = i\n",
    "            moves += 1  \n",
    "            while j >= gap and array[j - gap] > temp:\n",
    "                array[j] = array[j - gap]\n",
    "                j -= gap\n",
    "                moves += 1\n",
    "                comparisons += 1\n",
    "            comparisons += 1\n",
    "            array[j] = temp\n",
    "    return array, comparisons, moves  "
   ]
  },
  {
   "cell_type": "markdown",
   "id": "ba34414c",
   "metadata": {},
   "source": [
    "---\n",
    "<p style=\"font-size: 18px;\"><strong>Завдання №3</strong></p>\n",
    "<p style=\"font-size: 15px;\">Згенерувати три масиви з випадковими елементами типу Integer довжиною 100, 1000 та 10000 елементів, відповідно.</p>\n"
   ]
  },
  {
   "cell_type": "code",
   "execution_count": 4,
   "id": "3d365a6b",
   "metadata": {},
   "outputs": [],
   "source": [
    "array_1 = np.random.randint(100, size=(100)) \n",
    "array_2 = np.random.randint(1, 1000, 1000)\n",
    "array_3 = np.random.randint(1, 10000, 10000)"
   ]
  },
  {
   "cell_type": "code",
   "execution_count": 5,
   "id": "6da45c9c",
   "metadata": {},
   "outputs": [],
   "source": [
    "def timer(func, *args, iterations=5):\n",
    "    total_time = 0\n",
    "    for _ in range(iterations):\n",
    "        start_time = time.time()\n",
    "        func(*args)\n",
    "        end_time = time.time()\n",
    "        total_time += end_time - start_time\n",
    "    return total_time / iterations"
   ]
  },
  {
   "cell_type": "code",
   "execution_count": 6,
   "id": "998c5e27",
   "metadata": {},
   "outputs": [],
   "source": [
    "avg_time_selection_sort_1 = timer(selection_sort, array_1.copy())\n",
    "avg_time_selection_sort_2 = timer(selection_sort, array_2.copy())\n",
    "avg_time_selection_sort_3 = timer(selection_sort, array_3.copy())\n",
    "\n",
    "avg_time_shell_sort_1 = timer(shell_sort, array_1.copy())\n",
    "avg_time_shell_sort_2 = timer(shell_sort, array_2.copy())\n",
    "avg_time_shell_sort_3 = timer(shell_sort, array_3.copy())"
   ]
  },
  {
   "cell_type": "markdown",
   "id": "eb63967b",
   "metadata": {},
   "source": [
    "---\n",
    "<p style=\"font-size: 18px;\"><strong>Завдання №4</strong></p>\n",
    "<p style=\"font-size: 15px;\">Відсортувати одержані масиви за збільшенням елементів, визначивши при цьому такі параметри:</p>\n",
    "<ul>\n",
    "  <li>кількість порівнянь;</li>\n",
    "  <li>кількість обмінів;</li>\n",
    "  <li>фактичний час роботи.</li>\n",
    "</ul>\n"
   ]
  },
  {
   "cell_type": "markdown",
   "id": "c83120e5",
   "metadata": {},
   "source": [
    "<p style=\"font-size: 16px;\"><strong>Завдання №4.1</strong></p>"
   ]
  },
  {
   "cell_type": "code",
   "execution_count": 7,
   "id": "2f8b8c2e",
   "metadata": {},
   "outputs": [
    {
     "name": "stdout",
     "output_type": "stream",
     "text": [
      "selection_sort\n",
      "Відсортований array_1 (перші 10): [2 2 3 4 4 4 5 7 7 8]\n",
      "Відсортований array_1 (останні 10): [93 93 93 94 94 95 95 98 98 99]\n",
      "Comparisons: 4950 , Moves: 89 , Time: 0.0012395858764648437\n",
      "Відсортований array_2 (перші 10): [ 1  1  3  4  5  6  8  8  9 10]\n",
      "Відсортований array_2 (останні 10): [991 991 991 992 992 993 993 996 996 999]\n",
      "Comparisons: 499500 , Moves: 994 , Time: 0.12578372955322265\n",
      "Відсортований array_3 (перші 10): [1 2 3 3 4 5 6 6 8 9]\n",
      "Відсортований array_3 (останні 10): [9989 9990 9993 9996 9996 9996 9997 9998 9999 9999]\n",
      "Comparisons: 49995000 , Moves: 9990 , Time: 13.612536668777466\n"
     ]
    }
   ],
   "source": [
    "sorted_array_selection_sort_1, comparisons_selection_sort_1, moves_selection_sort_1 = selection_sort(array_1.copy())\n",
    "sorted_array_selection_sort_2, comparisons_selection_sort_2, moves_selection_sort_2 = selection_sort(array_2.copy())\n",
    "sorted_array_selection_sort_3, comparisons_selection_sort_3, moves_selection_sort_3 = selection_sort(array_3.copy())\n",
    "\n",
    "print(\"selection_sort\")\n",
    "\n",
    "print(\"Відсортований array_1 (перші 10):\", sorted_array_selection_sort_1[:10])\n",
    "print(\"Відсортований array_1 (останні 10):\", sorted_array_selection_sort_1[-10:])\n",
    "print(\"Comparisons:\", comparisons_selection_sort_1, \", Moves:\", moves_selection_sort_1, \", Time:\", avg_time_selection_sort_1)\n",
    "\n",
    "print(\"Відсортований array_2 (перші 10):\", sorted_array_selection_sort_2[:10])\n",
    "print(\"Відсортований array_2 (останні 10):\", sorted_array_selection_sort_2[-10:])\n",
    "print(\"Comparisons:\", comparisons_selection_sort_2, \", Moves:\", moves_selection_sort_2, \", Time:\", avg_time_selection_sort_2)\n",
    "\n",
    "print(\"Відсортований array_3 (перші 10):\", sorted_array_selection_sort_3[:10])\n",
    "print(\"Відсортований array_3 (останні 10):\", sorted_array_selection_sort_3[-10:])\n",
    "print(\"Comparisons:\", comparisons_selection_sort_3, \", Moves:\", moves_selection_sort_3, \", Time:\", avg_time_selection_sort_3)"
   ]
  },
  {
   "cell_type": "markdown",
   "id": "7eb7313f",
   "metadata": {},
   "source": [
    "<p style=\"font-size: 16px;\"><strong>Завдання №4.2</strong></p>"
   ]
  },
  {
   "cell_type": "code",
   "execution_count": 8,
   "id": "aecab381",
   "metadata": {},
   "outputs": [
    {
     "name": "stdout",
     "output_type": "stream",
     "text": [
      "shell_sort\n",
      "Відсортований array_1 (перші 10): [2 2 3 4 4 4 5 7 7 8]\n",
      "Відсортований array_1 (останні 10): [93 93 93 94 94 95 95 98 98 99]\n",
      "Comparisons: 795 , Moves: 795 , Time: 0.0001499176025390625\n",
      "Відсортований array_2 (перші 10): [ 1  1  3  4  5  6  8  8  9 10]\n",
      "Відсортований array_2 (останні 10): [991 991 991 992 992 993 993 996 996 999]\n",
      "Comparisons: 13828 , Moves: 13828 , Time: 0.002767658233642578\n",
      "Відсортований array_3 (перші 10): [1 2 3 3 4 5 6 6 8 9]\n",
      "Відсортований array_3 (останні 10): [9989 9990 9993 9996 9996 9996 9997 9998 9999 9999]\n",
      "Comparisons: 201347 , Moves: 201347 , Time: 0.04152812957763672\n"
     ]
    }
   ],
   "source": [
    "sorted_array_shell_sort_1, comparisons_shell_sort_1, moves_shell_sort_1 = shell_sort(array_1.copy())\n",
    "sorted_array_shell_sort_2, comparisons_shell_sort_2, moves_shell_sort_2 = shell_sort(array_2.copy())\n",
    "sorted_array_shell_sort_3, comparisons_shell_sort_3, moves_shell_sort_3 = shell_sort(array_3.copy())\n",
    "\n",
    "print(\"shell_sort\")\n",
    "\n",
    "print(\"Відсортований array_1 (перші 10):\", sorted_array_shell_sort_1[:10])\n",
    "print(\"Відсортований array_1 (останні 10):\", sorted_array_shell_sort_1[-10:])\n",
    "print(\"Comparisons:\", comparisons_shell_sort_1, \", Moves:\", moves_shell_sort_1, \", Time:\", avg_time_shell_sort_1)\n",
    "\n",
    "print(\"Відсортований array_2 (перші 10):\", sorted_array_shell_sort_2[:10])\n",
    "print(\"Відсортований array_2 (останні 10):\", sorted_array_shell_sort_2[-10:])\n",
    "print(\"Comparisons:\", comparisons_shell_sort_2, \", Moves:\", moves_shell_sort_2, \", Time:\", avg_time_shell_sort_2)\n",
    "\n",
    "print(\"Відсортований array_3 (перші 10):\", sorted_array_shell_sort_3[:10])\n",
    "print(\"Відсортований array_3 (останні 10):\", sorted_array_shell_sort_3[-10:])\n",
    "print(\"Comparisons:\", comparisons_shell_sort_3, \", Moves:\", moves_shell_sort_3, \", Time:\", avg_time_shell_sort_3)"
   ]
  },
  {
   "cell_type": "markdown",
   "id": "81aa4312",
   "metadata": {},
   "source": [
    "---\n",
    "<p style=\"font-size: 18px;\"><strong>Завдання №5</strong></p>\n",
    "<p style=\"font-size: 15px;\">Оформити звіт, навівши одержані експериментальні дані та теоретичні\n",
    "оцінки у вигляді таблиць.</p>"
   ]
  },
  {
   "cell_type": "markdown",
   "id": "93546be2",
   "metadata": {},
   "source": [
    "<img src=\"\">"
   ]
  },
  {
   "cell_type": "markdown",
   "id": "87783381",
   "metadata": {},
   "source": [
    "<img src=\"img_laba2222.jpg\">"
   ]
  }
 ],
 "metadata": {
  "kernelspec": {
   "display_name": "Python 3 (ipykernel)",
   "language": "python",
   "name": "python3"
  },
  "language_info": {
   "codemirror_mode": {
    "name": "ipython",
    "version": 3
   },
   "file_extension": ".py",
   "mimetype": "text/x-python",
   "name": "python",
   "nbconvert_exporter": "python",
   "pygments_lexer": "ipython3",
   "version": "3.11.4"
  }
 },
 "nbformat": 4,
 "nbformat_minor": 5
}
